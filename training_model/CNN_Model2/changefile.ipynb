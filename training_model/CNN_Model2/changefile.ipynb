{
 "cells": [
  {
   "cell_type": "code",
   "execution_count": 1,
   "id": "b39fecf5",
   "metadata": {},
   "outputs": [],
   "source": [
    "import os\n",
    "import numpy as np\n",
    "import cv2\n",
    "import tensorflow as tf\n",
    "from tensorflow.keras.preprocessing.image import ImageDataGenerator\n",
    "from tensorflow.keras.models import Sequential\n",
    "from tensorflow.keras.layers import Conv2D, MaxPooling2D, Flatten, Dense, Dropout, BatchNormalization\n",
    "from tensorflow.keras.regularizers import l2\n",
    "from tensorflow.keras.layers import Input\n",
    "from PIL import Image"
   ]
  },
  {
   "cell_type": "code",
   "execution_count": 2,
   "id": "5cd491b2",
   "metadata": {},
   "outputs": [
    {
     "name": "stdout",
     "output_type": "stream",
     "text": [
      "✅ Đã lưu dữ liệu vào 'emotion_dataset.csv'.\n"
     ]
    }
   ],
   "source": [
    "import pandas as pd\n",
    "train_dir = 'D:/DatasetDoAnCoSO/Dataset_DuPhong/images/train'\n",
    "emotion_labels = os.listdir(train_dir)\n",
    "label_map = {label: idx for idx, label in enumerate(sorted(emotion_labels))}\n",
    "\n",
    "data = []\n",
    "\n",
    "for label in emotion_labels:\n",
    "    label_path = os.path.join(train_dir, label)\n",
    "    for filename in os.listdir(label_path):\n",
    "        file_path = os.path.join(label_path, filename)\n",
    "        try:\n",
    "            img = Image.open(file_path).convert('L')  # Chuyển về grayscale\n",
    "            img = img.resize((48, 48))  # Resize về 48x48\n",
    "            pixel_values = np.array(img).flatten()\n",
    "            pixel_str = ' '.join(str(pixel) for pixel in pixel_values)\n",
    "            data.append([label_map[label], pixel_str, \"Training\"])\n",
    "        except Exception as e:\n",
    "            print(f\"Lỗi khi xử lý {file_path}: {e}\")\n",
    "\n",
    "# Tạo DataFrame với 3 cột: emotion, pixels, Usage\n",
    "df = pd.DataFrame(data, columns=['emotion', 'pixels', 'Usage'])\n",
    "df.to_csv('emotion_dataset.csv', index=False)\n",
    "print(\"✅ Đã lưu dữ liệu vào 'emotion_dataset.csv'.\")"
   ]
  },
  {
   "cell_type": "code",
   "execution_count": 3,
   "id": "c297bfab",
   "metadata": {},
   "outputs": [
    {
     "name": "stdout",
     "output_type": "stream",
     "text": [
      "Các thư mục nhãn có trong train_dir:\n",
      "['angry', 'disgust', 'fear', 'happy', 'neutral', 'sad', 'surprise']\n",
      "angry: 3993 ảnh\n",
      "disgust: 436 ảnh\n",
      "fear: 4103 ảnh\n",
      "happy: 7164 ảnh\n",
      "neutral: 4982 ảnh\n",
      "sad: 4938 ảnh\n",
      "surprise: 3205 ảnh\n"
     ]
    }
   ],
   "source": [
    "emotion_labels = sorted(os.listdir(train_dir))\n",
    "print(\"Các thư mục nhãn có trong train_dir:\")\n",
    "print(emotion_labels)\n",
    "\n",
    "for label in emotion_labels:\n",
    "    label_path = os.path.join(train_dir, label)\n",
    "    print(f\"{label}: {len(os.listdir(label_path))} ảnh\")"
   ]
  }
 ],
 "metadata": {
  "kernelspec": {
   "display_name": "Python 3",
   "language": "python",
   "name": "python3"
  },
  "language_info": {
   "codemirror_mode": {
    "name": "ipython",
    "version": 3
   },
   "file_extension": ".py",
   "mimetype": "text/x-python",
   "name": "python",
   "nbconvert_exporter": "python",
   "pygments_lexer": "ipython3",
   "version": "3.11.7"
  }
 },
 "nbformat": 4,
 "nbformat_minor": 5
}
